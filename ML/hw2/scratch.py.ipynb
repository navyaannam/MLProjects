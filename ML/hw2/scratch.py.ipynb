{
 "cells": [
  {
   "cell_type": "code",
   "execution_count": 3,
   "metadata": {
    "collapsed": true
   },
   "outputs": [],
   "source": [
    "import pandas as pd\n",
    "import numpy as np"
   ]
  },
  {
   "cell_type": "code",
   "execution_count": 4,
   "metadata": {},
   "outputs": [
    {
     "name": "stdout",
     "output_type": "stream",
     "text": [
      "[['Pclass' 'Sex' 'Age' 'Fare' 'Embarked' 'relatives' 'IsAlone']\n ['3' '0' '22' '7' '0' '1' '0']\n ['1' '1' '38' '71' '1' '1' '0']\n ['3' '1' '26' '7' '0' '0' '1']\n ['1' '1' '35' '53' '0' '1' '0']\n ['3' '0' '35' '8' '0' '0' '1']\n ['3' '0' '27' '8' '77' '0' '1']\n ['1' '0' '54' '51' '0' '0' '1']\n ['3' '0' '2' '21' '0' '4' '0']\n ['3' '1' '27' '11' '0' '2' '0']\n ['2' '1' '14' '30' '1' '1' '0']\n ['3' '1' '4' '16' '0' '2' '0']\n ['1' '1' '58' '26' '0' '0' '1']\n ['3' '0' '20' '8' '0' '0' '1']\n ['3' '0' '39' '31' '0' '6' '0']\n ['3' '1' '14' '7' '0' '0' '1']\n ['2' '1' '55' '16' '0' '0' '1']\n ['3' '0' '2' '29' '77' '5' '0']\n ['2' '0' '27' '13' '0' '0' '1']\n ['3' '1' '31' '18' '0' '1' '0']\n ['3' '1' '27' '7' '1' '0' '1']]\n[[0]\n [1]\n [1]\n [1]\n [0]\n [0]\n [0]\n [0]\n [1]\n [1]\n [1]\n [1]\n [0]\n [0]\n [0]\n [1]\n [0]\n [1]\n [0]\n [1]]\n"
     ]
    }
   ],
   "source": [
    "\n",
    "training_data = pd.read_csv('sample.data', delimiter=',', names=['Pclass', 'Sex', 'Age', 'Fare', 'Embarked','relatives', 'IsAlone'], engine='python')\n",
    "\n",
    "training_data_matrix = training_data.values\n",
    "\n",
    "training_label = pd.read_csv('sample.label', delimiter=' ', index_col=None, header=None, engine='python')\n",
    "training_label_matrix = training_label.values\n",
    "\n",
    "print(training_data_matrix)\n",
    "print(training_label_matrix)"
   ]
  },
  {
   "cell_type": "code",
   "execution_count": 15,
   "metadata": {},
   "outputs": [
    {
     "data": {
      "text/plain": [
       "(array([1]), array([2]))"
      ]
     },
     "execution_count": 15,
     "metadata": {},
     "output_type": "execute_result"
    }
   ],
   "source": [
    "arr = np.array([\n",
    "    [1,1],\n",
    "    [1,4]\n",
    "])\n",
    "np.unique(arr[:, 0], return_counts=True)"
   ]
  },
  {
   "cell_type": "code",
   "execution_count": null,
   "metadata": {},
   "outputs": [],
   "source": []
  }
 ],
 "metadata": {
  "kernelspec": {
   "display_name": "Python 2",
   "language": "python",
   "name": "python2"
  },
  "language_info": {
   "codemirror_mode": {
    "name": "ipython",
    "version": 2
   },
   "file_extension": ".py",
   "mimetype": "text/x-python",
   "name": "python",
   "nbconvert_exporter": "python",
   "pygments_lexer": "ipython2",
   "version": "2.7.6"
  }
 },
 "nbformat": 4,
 "nbformat_minor": 0
}
